{
 "cells": [
  {
   "cell_type": "code",
   "execution_count": null,
   "id": "29cfafb2-c711-43c6-9a17-55c2492631eb",
   "metadata": {},
   "outputs": [],
   "source": [
    "\n",
    "# Add the parent directory to sys.path\n",
    "current_dir = Path(os.getcwd())\n",
    "parent_dir = current_dir.parent.parent\n",
    "\n",
    "sys.path.insert(0, str(parent_dir))\n",
    "sys.path"
   ]
  },
  {
   "cell_type": "code",
   "execution_count": null,
   "id": "09eabd4f-a2cc-4127-92b6-d74992fe3027",
   "metadata": {},
   "outputs": [],
   "source": [
    "\n",
    "from scripts.financial_analyzer import FinancialAnalyzer"
   ]
  },
  {
   "cell_type": "code",
   "execution_count": null,
   "id": "2d6bc0df-cdd8-4cd1-b953-eee033cfe993",
   "metadata": {},
   "outputs": [],
   "source": [
    "\n",
    "# Create an instance of FinancialAnalyzer class for the Apple stock\n",
    "analyzer = FinancialAnalyzer()"
   ]
  },
  {
   "cell_type": "code",
   "execution_count": null,
   "id": "d69eb279-01c6-4b4e-bcbf-07ef76250805",
   "metadata": {},
   "outputs": [],
   "source": [
    "\n",
    "# Retrieve stock data\n",
    "\n",
    "stock_data = analyzer.load_stock_data('AAPL')\n",
    "stock_data.head()"
   ]
  },
  {
   "cell_type": "code",
   "execution_count": null,
   "id": "1428150b-09e3-4e95-ab69-f1865f0c4f53",
   "metadata": {},
   "outputs": [],
   "source": [
    "\n",
    "# Descriptive stat for Apple stock data\n",
    "stock_data.info()"
   ]
  },
  {
   "cell_type": "code",
   "execution_count": null,
   "id": "40750182-341b-488d-a735-e48ead99502f",
   "metadata": {},
   "outputs": [],
   "source": [
    "\n",
    "# plot stock data\n",
    "analyzer.plot_stock_data(stock_data)"
   ]
  },
  {
   "cell_type": "code",
   "execution_count": null,
   "id": "f2e4409b-2740-4163-a398-5f49c79516d5",
   "metadata": {},
   "outputs": [],
   "source": [
    "\n",
    "# Plot RSI\n",
    "analyzer.plot_rsi(stock_data)"
   ]
  },
  {
   "cell_type": "code",
   "execution_count": null,
   "id": "fcd2d930-70e4-45b9-a132-bd3b1d1b6ec3",
   "metadata": {},
   "outputs": [],
   "source": [
    "\n",
    "# Plot EMA\n",
    "analyzer.plot_ema(stock_data)"
   ]
  },
  {
   "cell_type": "code",
   "execution_count": null,
   "id": "6300f273-a211-423c-8a11-1c766f9e2d6c",
   "metadata": {},
   "outputs": [],
   "source": [
    "\n",
    "# Plot MACD\n",
    "analyzer.plot_macd(stock_data)"
   ]
  },
  {
   "cell_type": "code",
   "execution_count": null,
   "id": "e4cced25-d5a7-4afe-ae2b-f7377512ee1e",
   "metadata": {},
   "outputs": [],
   "source": [
    "\n",
    "# Portfolio weight analysis of the past 12 years\n",
    "stocks = ['AAPL', 'AMZN', 'GOOG', 'META', 'MSFT', 'NVDA', 'TSLA']\n",
    "weights = analyzer.calculate_portfolio_weights(tickers=stocks,\n",
    "                                               start_date='2012-01-01',\n",
    "                                               end_date='2024-01-01')\n",
    "weights"
   ]
  },
  {
   "cell_type": "code",
   "execution_count": null,
   "id": "787cc141-da66-49a0-b1e1-c54d5767a2b0",
   "metadata": {},
   "outputs": [],
   "source": [
    "\n",
    "# Retrieve stock data\n",
    "\n",
    "stock_data = analyzer.load_stock_data('GOOG')\n",
    "stock_data.head()"
   ]
  },
  {
   "cell_type": "code",
   "execution_count": null,
   "id": "a81e2955-1ef5-44c3-bcf9-d116d6e25920",
   "metadata": {},
   "outputs": [],
   "source": [
    "\n",
    "# Descriptive stat for Apple stock data\n",
    "stock_data.info()\n"
   ]
  },
  {
   "cell_type": "code",
   "execution_count": null,
   "id": "f515d72a-47c6-400e-abbb-d303248c0a8f",
   "metadata": {},
   "outputs": [],
   "source": [
    "\n",
    "# plot stock data\n",
    "analyzer.plot_stock_data(stock_data)"
   ]
  },
  {
   "cell_type": "code",
   "execution_count": null,
   "id": "05087cf1-ddd6-48c0-899d-acddcf42d37b",
   "metadata": {},
   "outputs": [],
   "source": [
    "\n",
    "# Plot RSI\n",
    "analyzer.plot_rsi(stock_data)"
   ]
  },
  {
   "cell_type": "code",
   "execution_count": null,
   "id": "878562ad-b612-43ad-9832-4f52517c679d",
   "metadata": {},
   "outputs": [],
   "source": [
    "\n",
    "# Plot EMA\n",
    "analyzer.plot_ema(stock_data)"
   ]
  },
  {
   "cell_type": "code",
   "execution_count": null,
   "id": "297ccee6-3c88-4ded-8ccd-b8ded80e823e",
   "metadata": {},
   "outputs": [],
   "source": [
    "\n",
    "# Plot MACD\n",
    "analyzer.plot_macd(stock_data)"
   ]
  },
  {
   "cell_type": "code",
   "execution_count": null,
   "id": "1d613113-b4ec-4ef0-932d-011cdd9f49b9",
   "metadata": {},
   "outputs": [],
   "source": [
    "\n",
    "# Retrieve stock data\n",
    "\n",
    "stock_data = analyzer.load_stock_data('AMZN')\n",
    "stock_data.head()"
   ]
  },
  {
   "cell_type": "code",
   "execution_count": null,
   "id": "954642f9-a3ac-423b-9e4a-0c1411361fd6",
   "metadata": {},
   "outputs": [],
   "source": [
    "\n",
    "# Descriptive stat for Apple stock data\n",
    "stock_data.info()"
   ]
  },
  {
   "cell_type": "code",
   "execution_count": null,
   "id": "88acf234-cfd0-49ae-9ec4-4ef3e72fa721",
   "metadata": {},
   "outputs": [],
   "source": [
    "\n",
    "stock_data.describe()"
   ]
  },
  {
   "cell_type": "code",
   "execution_count": null,
   "id": "8d4d2c2f-5e14-4fdd-9f8a-43a6e37009e3",
   "metadata": {},
   "outputs": [],
   "source": [
    "\n",
    "# Calculate technical indicators\n",
    "stock_data_indicator = analyzer.calculate_technical_indicators(stock_data)\n",
    "stock_data_indicator.tail()"
   ]
  },
  {
   "cell_type": "code",
   "execution_count": null,
   "id": "b4f1b453-537f-46a7-b895-78660ef9ebd8",
   "metadata": {},
   "outputs": [],
   "source": [
    "\n",
    "# plot stock data\n",
    "analyzer.plot_stock_data(stock_data)"
   ]
  },
  {
   "cell_type": "code",
   "execution_count": null,
   "id": "ef9c4165-24d9-4f70-948d-98bca8746750",
   "metadata": {},
   "outputs": [],
   "source": [
    "\n",
    "# Plot RSI\n",
    "analyzer.plot_rsi(stock_data)"
   ]
  },
  {
   "cell_type": "code",
   "execution_count": null,
   "id": "31cef905-f182-4dfb-a165-3a15055a8687",
   "metadata": {},
   "outputs": [],
   "source": [
    "\n",
    "# Plot EMA\n",
    "analyzer.plot_ema(stock_data)"
   ]
  },
  {
   "cell_type": "code",
   "execution_count": null,
   "id": "d26333c3-96b8-41e8-a006-9ad7d38f06f3",
   "metadata": {},
   "outputs": [],
   "source": [
    "\n",
    "# Plot MACD\n",
    "analyzer.plot_macd(stock_data)"
   ]
  },
  {
   "cell_type": "code",
   "execution_count": null,
   "id": "49a7c2c7-9fa6-4c09-aeda-81d067300568",
   "metadata": {},
   "outputs": [],
   "source": [
    "\n",
    "\n",
    "# Retrieve stock data\n",
    "\n",
    "stock_data = analyzer.load_stock_data('META')\n",
    "stock_data.head()\n"
   ]
  },
  {
   "cell_type": "code",
   "execution_count": null,
   "id": "29cfd424-b5d3-49fb-a636-f14908d18d93",
   "metadata": {},
   "outputs": [],
   "source": [
    "\n",
    "# Descriptive stat for Apple stock data\n",
    "stock_data.info()"
   ]
  },
  {
   "cell_type": "code",
   "execution_count": null,
   "id": "7ea705b9-475b-49c7-b4db-3004aed20262",
   "metadata": {},
   "outputs": [],
   "source": [
    "\n",
    "# Calculate technical indicators\n",
    "stock_data_indicator = analyzer.calculate_technical_indicators(stock_data)\n",
    "stock_data_indicator.tail()"
   ]
  },
  {
   "cell_type": "code",
   "execution_count": null,
   "id": "f2780fe3-b373-4aeb-9a74-4fae0e311a49",
   "metadata": {},
   "outputs": [],
   "source": [
    "\n",
    "# plot stock data\n",
    "analyzer.plot_stock_data(stock_data)"
   ]
  },
  {
   "cell_type": "code",
   "execution_count": null,
   "id": "42f9013a-d492-417a-86e9-6fd9a1c8543a",
   "metadata": {},
   "outputs": [],
   "source": [
    "\n",
    "# Plot RSI\n",
    "analyzer.plot_rsi(stock_data)"
   ]
  },
  {
   "cell_type": "code",
   "execution_count": null,
   "id": "20155182-c077-433a-b486-2a6825896941",
   "metadata": {},
   "outputs": [],
   "source": [
    "\n",
    "# Plot EMA\n",
    "analyzer.plot_ema(stock_data)"
   ]
  },
  {
   "cell_type": "code",
   "execution_count": null,
   "id": "af7757b1-e394-4699-aa74-9723a452bbe4",
   "metadata": {},
   "outputs": [],
   "source": [
    "\n",
    "# Plot MACD\n",
    "analyzer.plot_macd(stock_data)"
   ]
  },
  {
   "cell_type": "code",
   "execution_count": null,
   "id": "8ce0088d-a5f1-440d-93a8-701ecf19a356",
   "metadata": {},
   "outputs": [],
   "source": [
    "\n",
    "# Retrieve stock data\n",
    "\n",
    "stock_data = analyzer.load_stock_data('MSFT')\n",
    "stock_data.head()"
   ]
  },
  {
   "cell_type": "code",
   "execution_count": null,
   "id": "f27e1e8e-bcf3-4d09-9d1d-098cd24f0fa2",
   "metadata": {},
   "outputs": [],
   "source": []
  },
  {
   "cell_type": "code",
   "execution_count": null,
   "id": "949598ba-7715-4411-a8a7-01719164098c",
   "metadata": {},
   "outputs": [],
   "source": []
  },
  {
   "cell_type": "code",
   "execution_count": null,
   "id": "54f20b15-3381-45d0-8b18-84c04a47e150",
   "metadata": {},
   "outputs": [],
   "source": []
  }
 ],
 "metadata": {
  "kernelspec": {
   "display_name": "Python 3 (ipykernel)",
   "language": "python",
   "name": "python3"
  },
  "language_info": {
   "codemirror_mode": {
    "name": "ipython",
    "version": 3
   },
   "file_extension": ".py",
   "mimetype": "text/x-python",
   "name": "python",
   "nbconvert_exporter": "python",
   "pygments_lexer": "ipython3",
   "version": "3.13.0"
  }
 },
 "nbformat": 4,
 "nbformat_minor": 5
}
